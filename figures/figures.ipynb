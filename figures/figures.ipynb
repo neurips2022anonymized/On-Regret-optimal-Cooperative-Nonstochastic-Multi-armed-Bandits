{
 "cells": [
  {
   "cell_type": "code",
   "execution_count": 2,
   "metadata": {},
   "outputs": [],
   "source": [
    "import os\n",
    "import sys\n",
    "module_path = os.path.abspath(os.path.join('..'))\n",
    "if module_path not in sys.path:\n",
    "    sys.path.append(module_path)\n",
    "\n",
    "import matplotlib.pyplot as plt\n",
    "import numpy as np\n",
    "from plot.losses import get_least_cum_losses, get_averaged_cum_losses\n",
    "from plot.format import set_size"
   ]
  },
  {
   "cell_type": "code",
   "execution_count": 3,
   "metadata": {},
   "outputs": [],
   "source": [
    "width = 345\n",
    "tex_fonts = {\n",
    "    # Use LaTeX to write all text\n",
    "    #\"text.usetex\": True,\n",
    "    \"font.family\": \"serif\",\n",
    "    # Use 10pt font in plots, to match 10pt font in document\n",
    "    \"axes.labelsize\": 12,\n",
    "    \"font.size\": 12,\n",
    "    # Make the legend/label fonts a little smaller\n",
    "    \"legend.fontsize\": 11,\n",
    "    \"xtick.labelsize\": 8.5,\n",
    "    \"ytick.labelsize\": 8.5\n",
    "}\n",
    "\n",
    "plt.rcParams.update(tex_fonts)"
   ]
  },
  {
   "cell_type": "code",
   "execution_count": 4,
   "metadata": {},
   "outputs": [],
   "source": [
    "paper_figures_dir = \"../figures/\"\n",
    "algo_labels = {\n",
    "    'center-based-exp3': 'center-based Exp3',\n",
    "    'center-based-tsallis': 'CFTRL',\n",
    "    'distributed-exp3': 'Exp3-COOP',\n",
    "    'distributed-hybrid': 'DFTRL'\n",
    "}\n",
    "linestyles= {\n",
    "    'center-based-tsallis': '-',\n",
    "    'center-based-exp3': ':',\n",
    "    'distributed-exp3': '-.',\n",
    "    'distributed-hybrid': '--'\n",
    "}\n",
    "markers = {\n",
    "    'center-based-tsallis': '^',\n",
    "    'center-based-exp3': 'o',\n",
    "    'distributed-exp3': '<',\n",
    "    'distributed-hybrid': '>'\n",
    "}"
   ]
  },
  {
   "cell_type": "markdown",
   "metadata": {},
   "source": [
    "## Figure 1\n",
    "### Regret"
   ]
  },
  {
   "cell_type": "code",
   "execution_count": 11,
   "metadata": {},
   "outputs": [
    {
     "data": {
      "image/png": "[encoded data removed]",
      "text/plain": [
       "<Figure size 343.711x212.425 with 1 Axes>"
      ]
     },
     "metadata": {
      "needs_background": "light"
     },
     "output_type": "display_data"
    },
    {
     "name": "stderr",
     "output_type": "stream",
     "text": [
      "/tmp/ipykernel_15783/276224492.py:63: MatplotlibDeprecationWarning: savefig() got unexpected keyword argument \"dvi\" which is no longer supported as of 3.3 and will become an error two minor releases later\n",
      "  fig.savefig(paper_figures_dir+\"regret.png\", dvi=100)\n"
     ]
    }
   ],
   "source": [
    "path_to_dir = \"../experiments/coin_flip_regular_graph/\"\n",
    "seed_algo_list = list(range(10))\n",
    "network_list = ['center-based', 'distributed']\n",
    "algo_list = ['tsallis', 'exp3', 'hybrid']\n",
    "\n",
    "hyper_parameters = {\n",
    "    'network': None,\n",
    "    'algo': None,\n",
    "    'rounds': 10000,\n",
    "    'n_actions': 40,\n",
    "    'seed_adversary': 1,\n",
    "    'delay': 1,\n",
    "    'n_agents': 3,\n",
    "    'degree': 2,\n",
    "    'seed_nx': 0,\n",
    "    'seed_algo': None,\n",
    "    'learning_rate': 0.1\n",
    "}\n",
    "\n",
    "least_cum_loss = get_least_cum_losses(hyper_parameters)\n",
    "\n",
    "all_averaged_cum_regrets = {}\n",
    "ci_averaged_cum_regrets = {}\n",
    "for network in network_list:\n",
    "    for algo in algo_list:\n",
    "        key = network+'-'+algo\n",
    "        if not (key == 'center-based-hybrid' or key == 'distributed-tsallis'):\n",
    "            all_averaged_cum_regrets[key] = []\n",
    "            hyper_parameters['network'] = network\n",
    "            hyper_parameters['algo'] = algo\n",
    "            # axis-0: seed, axis-1: time step\n",
    "            for seed in seed_algo_list:\n",
    "                hyper_parameters['seed_algo'] = seed\n",
    "                all_averaged_cum_regrets[key].append(\n",
    "                    (get_averaged_cum_losses(hyper_parameters, path_to_dir) - least_cum_loss).tolist()\n",
    "                )\n",
    "            ci_averaged_cum_regrets[key] = {\n",
    "                '5pct': np.percentile(all_averaged_cum_regrets[key], q=5, axis=0),\n",
    "                'mean': np.average(all_averaged_cum_regrets[key], axis=0),\n",
    "                '95pct': np.percentile(all_averaged_cum_regrets[key], q=95, axis=0),\n",
    "            }\n",
    "\n",
    "fig, ax0 = plt.subplots(1, 1, figsize=set_size(width))\n",
    "for network_agents, ci in ci_averaged_cum_regrets.items():\n",
    "    ax0.plot(\n",
    "        list(range(hyper_parameters['rounds'])),\n",
    "        ci['mean'],\n",
    "        linestyle=linestyles[network_agents],\n",
    "        label=algo_labels[network_agents]\n",
    "    )\n",
    "    # ax0.fill_between(\n",
    "    #     list(range(hyper_parameters['rounds'])),\n",
    "    #     ci['5pct'],\n",
    "    #     ci['95pct'],\n",
    "    #     alpha=0.2\n",
    "    # )\n",
    "\n",
    "ax0.set_ylabel(r\"$R_T$\")\n",
    "ax0.set_xlabel(r\"$T$\")\n",
    "ax0.legend(loc=\"upper left\")\n",
    "plt.grid()\n",
    "plt.show()\n",
    "fig.savefig(paper_figures_dir+\"regret.png\", dvi=100)"
   ]
  },
  {
   "cell_type": "markdown",
   "metadata": {},
   "source": [
    "### Actions"
   ]
  },
  {
   "cell_type": "code",
   "execution_count": 4,
   "metadata": {},
   "outputs": [
    {
     "data": {
      "image/png": "[encoded data removed]",
      "text/plain": [
       "<Figure size 432x288 with 1 Axes>"
      ]
     },
     "metadata": {
      "needs_background": "light"
     },
     "output_type": "display_data"
    },
    {
     "name": "stderr",
     "output_type": "stream",
     "text": [
      "/tmp/ipykernel_1220/3855273005.py:44: MatplotlibDeprecationWarning: savefig() got unexpected keyword argument \"dvi\" which is no longer supported as of 3.3 and will become an error two minor releases later\n",
      "  fig.savefig(paper_figures_dir+\"n_actions.png\", dvi=100)\n"
     ]
    }
   ],
   "source": [
    "ci_averaged_cum_regrets = {\n",
    "    'center-based-tsallis': {\n",
    "        '5pct': np.array([24.49473792, 49.23335374, 63.2479954 , 78.11844996]),\n",
    "        'mean': np.array([ 26.89555663,  51.23217386,  69.27550082, 167.28165476]),\n",
    "        '95pct': np.array([ 29.83197245,  53.01308931,  79.27935911, 287.23936579])\n",
    "    },\n",
    "    'center-based-exp3': {\n",
    "        '5pct': np.array([ 20.57587024,  38.6570358 ,  75.93231726, 124.02444103]),\n",
    "        'mean': np.array([ 24.44924678,  45.07131708, 169.66446431, 600.17528461]),\n",
    "        '95pct': np.array([  27.17457656,   52.85960779,  318.25767056, 1271.99388722])\n",
    "    }\n",
    "}\n",
    "\n",
    "n_actions_list = list(range(10, 50, 10))\n",
    "\n",
    "normalizer = [(K*hyper_parameters['rounds'])**.5 for K in n_actions_list]\n",
    "\n",
    "errbar_colors = {\n",
    "    'center-based-tsallis': ['C0', 'lightsteelblue'],\n",
    "    'center-based-exp3': ['C1', 'bisque']\n",
    "}\n",
    "\n",
    "fig, ax1 = plt.subplots(1, 1)\n",
    "for network_agents, ci in ci_averaged_cum_regrets.items():\n",
    "    ax1.errorbar(\n",
    "        n_actions_list,\n",
    "        ci['mean'] / normalizer,\n",
    "        yerr=[\n",
    "            (ci['mean'] - ci['5pct'])/normalizer,\n",
    "            (ci['95pct'] - ci['mean'])/normalizer\n",
    "        ],\n",
    "        label=algo_labels[network_agents],\n",
    "        color=errbar_colors[network_agents][0],\n",
    "        ecolor=errbar_colors[network_agents][1],\n",
    "        fmt=markers[network_agents], elinewidth=3, capsize=0\n",
    "    )\n",
    "\n",
    "ax1.set_ylabel(r\"$R_T/\\sqrt{KT}$\")\n",
    "ax1.set_xlabel(r\"$K$\")\n",
    "ax1.legend(loc=\"upper left\")\n",
    "ax1.set_xticks(n_actions_list)\n",
    "plt.grid()\n",
    "plt.show()\n",
    "fig.savefig(paper_figures_dir+\"n_actions.png\", dvi=100)"
   ]
  },
  {
   "cell_type": "markdown",
   "metadata": {},
   "source": [
    "## Figure 2\n",
    "### Degree"
   ]
  },
  {
   "cell_type": "code",
   "execution_count": 5,
   "metadata": {},
   "outputs": [
    {
     "data": {
      "image/png": "[encoded data removed]",
      "text/plain": [
       "<Figure size 343.711x212.425 with 1 Axes>"
      ]
     },
     "metadata": {
      "needs_background": "light"
     },
     "output_type": "display_data"
    },
    {
     "name": "stderr",
     "output_type": "stream",
     "text": [
      "/tmp/ipykernel_16734/1095274225.py:43: MatplotlibDeprecationWarning: savefig() got unexpected keyword argument \"dvi\" which is no longer supported as of 3.3 and will become an error two minor releases later\n",
      "  fig.savefig(paper_figures_dir+\"degree.png\", dvi=100)\n"
     ]
    }
   ],
   "source": [
    "ci_averaged_cum_regrets = {\n",
    "    'center-based-tsallis': {\n",
    "        '5pct': np.array([26.37015428, 18.63628396, 16.19019338, 14.58829116]),\n",
    "        'mean': np.array([27.71262888, 22.58307615, 18.18402126, 16.98922847]),\n",
    "        '95pct': np.array([29.19121962, 26.58581586, 20.65908112, 21.6667973 ])\n",
    "    }\n",
    "    # 'distributed-hybrid': {\n",
    "    #     '5pct': np.array([34.34579505, 30.73770046, 22.52284971, 17.74499825]),\n",
    "    #     'mean': np.array([40.07776303, 36.61493927, 25.21853789, 18.68519834]),\n",
    "    #     '95pct': np.array([45.48882972, 42.15010806, 28.72346299, 20.01821454])\n",
    "    # }\n",
    "}\n",
    "\n",
    "degree_list = list(range(2,6))\n",
    "errbar_colors = {\n",
    "    'center-based-tsallis': ['C0', 'lightsteelblue']\n",
    "    # 'distributed-hybrid': ['C1', 'bisque']\n",
    "}\n",
    "\n",
    "fig, ax4 = plt.subplots(1, 1, figsize=set_size(width))\n",
    "for network_agents, ci in ci_averaged_cum_regrets.items():\n",
    "    ax4.errorbar(\n",
    "        degree_list,\n",
    "        ci['mean'],\n",
    "        yerr=[\n",
    "            ci['mean'] - ci['5pct'],\n",
    "            ci['95pct'] - ci['mean']\n",
    "        ],\n",
    "        label=algo_labels[network_agents],\n",
    "        color=errbar_colors[network_agents][0],\n",
    "        ecolor=errbar_colors[network_agents][1],\n",
    "        fmt=markers[network_agents], elinewidth=3, capsize=0\n",
    "    )\n",
    "\n",
    "ax4.plot(degree_list, [38/delta**.5 for delta in degree_list], '--', color='grey', label='$\\Theta(1/\\sqrt{r})$')\n",
    "\n",
    "ax4.set_ylabel(r\"$R_T$\")\n",
    "ax4.set_xlabel(r\"$r$\")\n",
    "ax4.legend(loc=\"upper right\")\n",
    "ax4.set_xticks(degree_list)\n",
    "plt.grid()\n",
    "plt.show()\n",
    "fig.savefig(paper_figures_dir+\"degree.png\", dvi=100)"
   ]
  },
  {
   "cell_type": "markdown",
   "metadata": {},
   "source": [
    "### Delays"
   ]
  },
  {
   "cell_type": "code",
   "execution_count": 7,
   "metadata": {},
   "outputs": [
    {
     "data": {
      "image/png": "[encoded data removed]",
      "text/plain": [
       "<Figure size 343.711x212.425 with 1 Axes>"
      ]
     },
     "metadata": {
      "needs_background": "light"
     },
     "output_type": "display_data"
    },
    {
     "name": "stderr",
     "output_type": "stream",
     "text": [
      "/tmp/ipykernel_16734/360036083.py:49: MatplotlibDeprecationWarning: savefig() got unexpected keyword argument \"dvi\" which is no longer supported as of 3.3 and will become an error two minor releases later\n",
      "  fig.savefig(paper_figures_dir+\"delay.png\", dvi=100)\n"
     ]
    }
   ],
   "source": [
    "ci_averaged_cum_regrets = {\n",
    "    'center-based-tsallis': {\n",
    "        '5pct': np.array([25.15090774, 28.91269875, 32.18900792, 35.02923438, 37.44297781]),\n",
    "        'mean': np.array([25.23905242, 28.98796168, 32.24607469, 35.08611984, 37.47029373]),\n",
    "        '95pct': np.array([25.35112869, 29.08809225, 32.33936188, 35.15650404, 37.50217858])\n",
    "    },\n",
    "    'distributed-hybrid': {\n",
    "        '5pct': np.array([19.37993706, 21.51188687, 23.39085799, 25.51864315, 27.36980579]),\n",
    "        'mean': np.array([20.15735887, 22.45859857, 24.2241305 , 26.35252183, 28.16816849]),\n",
    "        '95pct': np.array([20.93917618, 23.21334734, 24.88154647, 26.90624495, 28.70209104])\n",
    "    }\n",
    "}\n",
    "\n",
    "delay_list = list(range(20, 45, 5))\n",
    "normalizer = [1 for de in delay_list]\n",
    "fig, ax1 = plt.subplots(1, 1, figsize=set_size(width))\n",
    "errbar_colors = {\n",
    "    'center-based-tsallis': ['C0', 'lightsteelblue'],\n",
    "    'distributed-hybrid': ['C1', 'bisque']\n",
    "}\n",
    "\n",
    "for network_agents, ci in ci_averaged_cum_regrets.items():\n",
    "    ax1.errorbar(\n",
    "        delay_list,\n",
    "        ci['mean']/normalizer ,\n",
    "        yerr=[\n",
    "            (ci['mean'] - ci['5pct'])/normalizer,\n",
    "            (ci['95pct'] - ci['mean'])/normalizer\n",
    "        ],\n",
    "        label=algo_labels[network_agents],\n",
    "        color=errbar_colors[network_agents][0],\n",
    "        ecolor=errbar_colors[network_agents][1],\n",
    "        fmt=markers[network_agents], elinewidth=3, capsize=0\n",
    "    )\n",
    "\n",
    "    ax1.plot(\n",
    "        delay_list,\n",
    "        ci['mean']/normalizer,\n",
    "        linestyle=linestyles[network_agents]\n",
    "    )\n",
    "    \n",
    "\n",
    "ax1.set_ylabel(r\"$R_T$\")\n",
    "ax1.set_xlabel(r\"$d$\")\n",
    "ax1.legend(loc=\"upper left\")\n",
    "ax1.set_xticks(delay_list)\n",
    "plt.grid()\n",
    "plt.show()\n",
    "fig.savefig(paper_figures_dir+\"delay.png\", dvi=100)"
   ]
  },
  {
   "cell_type": "markdown",
   "metadata": {},
   "source": [
    "### Erdos-Renyi graph"
   ]
  },
  {
   "cell_type": "code",
   "execution_count": 7,
   "metadata": {},
   "outputs": [
    {
     "data": {
      "image/png": "[encoded data removed]",
      "text/plain": [
       "<Figure size 432x288 with 1 Axes>"
      ]
     },
     "metadata": {
      "needs_background": "light"
     },
     "output_type": "display_data"
    },
    {
     "name": "stderr",
     "output_type": "stream",
     "text": [
      "/tmp/ipykernel_1220/2669957928.py:49: MatplotlibDeprecationWarning: savefig() got unexpected keyword argument \"dvi\" which is no longer supported as of 3.3 and will become an error two minor releases later\n",
      "  fig.savefig(paper_figures_dir+\"erdos_renyi.png\", dvi=100)\n"
     ]
    }
   ],
   "source": [
    "all_averaged_cum_regrets = {\n",
    "    'center-based-tsallis': [\n",
    "        119.97446631053137,\n",
    "        163.4208988151317,\n",
    "        182.12890653513557,\n",
    "        154.90907191850064,\n",
    "        192.20218780393537,\n",
    "        329.58281698119873,\n",
    "        380.4019870730631,\n",
    "        242.32048784997068,\n",
    "        379.8276792829796\n",
    "    ],\n",
    "    'center-based-exp3': [\n",
    "        139.7073463770852,\n",
    "        213.58735074051174,\n",
    "        208.60853951118816,\n",
    "        173.9890959972701,\n",
    "        218.5981111503312,\n",
    "        324.35246256558304,\n",
    "        380.3206698292546,\n",
    "        290.0258623535946,\n",
    "        377.6430353433467\n",
    "    ]\n",
    "}\n",
    "n_agents_list = [int(10**expo) for expo in np.linspace(1, 3, 9)]\n",
    "errbar_colors = {\n",
    "    'center-based-tsallis': ['C0', 'lightsteelblue'],\n",
    "    'center-based-exp3': ['C1', 'bisque']\n",
    "}\n",
    "\n",
    "fig, ax5 = plt.subplots(1,1, figsize=set_size(width))\n",
    "for network_agents, vals in all_averaged_cum_regrets.items():\n",
    "    regrets = all_averaged_cum_regrets[network_agents]\n",
    "    ax5.errorbar(\n",
    "        n_agents_list,\n",
    "        regrets,\n",
    "        label=algo_labels[network_agents],\n",
    "        color=errbar_colors[network_agents][0],\n",
    "        ecolor=errbar_colors[network_agents][1],\n",
    "        fmt=markers[network_agents], elinewidth=3, capsize=0\n",
    "    )\n",
    "ax5.set_xscale('log')\n",
    "ax5.set_ylabel(r\"$R_T$\")\n",
    "ax5.set_xlabel(r\"$N$\")\n",
    "ax5.legend(loc=\"upper left\")\n",
    "ax5.set_xticks(n_agents_list)\n",
    "plt.grid()\n",
    "plt.show()\n",
    "fig.savefig(paper_figures_dir+\"erdos_renyi.png\", dvi=100)"
   ]
  }
 ],
 "metadata": {
  "interpreter": {
   "hash": "a1b6e39d125f797ac9246aa5c9763d7d58e56a0d500502ec304066e58b594d21"
  },
  "kernelspec": {
   "display_name": "Python 3.9.7 ('base')",
   "language": "python",
   "name": "python3"
  },
  "language_info": {
   "codemirror_mode": {
    "name": "ipython",
    "version": 3
   },
   "file_extension": ".py",
   "mimetype": "text/x-python",
   "name": "python",
   "nbconvert_exporter": "python",
   "pygments_lexer": "ipython3",
   "version": "3.9.7"
  },
  "orig_nbformat": 4
 },
 "nbformat": 4,
 "nbformat_minor": 2
}
